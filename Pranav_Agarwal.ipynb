{
  "nbformat": 4,
  "nbformat_minor": 0,
  "metadata": {
    "colab": {
      "provenance": []
    },
    "kernelspec": {
      "name": "python3",
      "display_name": "Python 3"
    },
    "language_info": {
      "name": "python"
    }
  },
  "cells": [
    {
      "cell_type": "code",
      "execution_count": null,
      "metadata": {
        "id": "HuU9AGWIl02W"
      },
      "outputs": [],
      "source": [
        "import numpy as np\n",
        "import pandas as pd\n",
        "import sklearn"
      ]
    },
    {
      "cell_type": "code",
      "source": [
        "from sklearn.datasets import load_boston\n",
        "df = load_boston()\n",
        "df.keys()"
      ],
      "metadata": {
        "id": "ZUs-dzE0mAGd"
      },
      "execution_count": null,
      "outputs": []
    },
    {
      "cell_type": "code",
      "source": [
        "boston = pd.DataFrame(df.data, columns= df.feature_names)\n",
        "boston.head()"
      ],
      "metadata": {
        "id": "PsimLpaimJCR"
      },
      "execution_count": null,
      "outputs": []
    },
    {
      "cell_type": "code",
      "source": [
        "boston['VALUE'] = df.target\n",
        "boston.head()"
      ],
      "metadata": {
        "id": "uHzZp-mMmKIh"
      },
      "execution_count": null,
      "outputs": []
    },
    {
      "cell_type": "code",
      "source": [
        "boston.isnull()"
      ],
      "metadata": {
        "id": "H34q_MJMmNk_"
      },
      "execution_count": null,
      "outputs": []
    },
    {
      "cell_type": "code",
      "source": [
        "boston.isnull().sum()"
      ],
      "metadata": {
        "id": "R6ezu2lRmSy8"
      },
      "execution_count": null,
      "outputs": []
    },
    {
      "cell_type": "code",
      "source": [
        "from sklearn.model_selection import train_test_split\n",
        "A = boston.drop('VALUE', axis=1)\n",
        "B = boston['VALUE']\n",
        "A_train, A_test, B_train, B_test = train_test_split(A, B, test_size = 0.15, random_state = 5)\n",
        "print(A_train.shape)\n",
        "print(A_test.shape)\n",
        "print(B_train.shape)\n",
        "print(B_test.shape)"
      ],
      "metadata": {
        "id": "WPDgbsPrmdFL"
      },
      "execution_count": null,
      "outputs": []
    },
    {
      "cell_type": "code",
      "source": [
        "from sklearn.linear_model import LinearRegression\n",
        "from sklearn.metrics import mean_squared_error"
      ],
      "metadata": {
        "id": "Vd9tehxCmehJ"
      },
      "execution_count": null,
      "outputs": []
    },
    {
      "cell_type": "code",
      "source": [
        "lin_model = LinearRegression()\n",
        "lin_model.fit(A_train, B_train)"
      ],
      "metadata": {
        "id": "POprw919mjN8"
      },
      "execution_count": null,
      "outputs": []
    },
    {
      "cell_type": "code",
      "source": [
        "b_train_predict = lin_model.predict(A_train)\n",
        "rmse = (np.sqrt(mean_squared_error(B_train, b_train_predict)))\n",
        "\n",
        "print(\"The model perforomance from the training set\")\n",
        "print('RMSE is {}'.format(rmse))\n",
        "print(\"\\n\")\n",
        "\n",
        "b_test_predict = lin_model.predict(A_test)\n",
        "rmse = (np.sqrt(mean_squared_error(B_test, b_test_predict)))\n",
        "\n",
        "print(\"The model perforomance from the testing set\")\n",
        "print('RMSE is {}'.format(rmse))\n",
        "print(\"\\n\")"
      ],
      "metadata": {
        "id": "YZWwNW_Km_hI"
      },
      "execution_count": null,
      "outputs": []
    }
  ]
}